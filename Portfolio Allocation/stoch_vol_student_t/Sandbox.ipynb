{
 "cells": [
  {
   "cell_type": "code",
   "execution_count": 1,
   "metadata": {},
   "outputs": [],
   "source": [
    "import numpy as np\n",
    "import matplotlib.pyplot as plt\n",
    "import pandas as pd\n",
    "import pandas_market_calendars as mcal\n",
    "import datetime as dt\n",
    "import scipy as sp\n",
    "\n",
    "\n",
    "import pymc3 as pm\n",
    "import theano\n",
    "from theano import tensor as tt\n",
    "from theano import shared\n",
    "import arviz as az\n",
    "import seaborn as sns\n",
    "az.style.use(\"arviz-darkgrid\")\n",
    "\n",
    "import os\n",
    "import sys\n",
    "\n",
    "\n",
    "from jupyterthemes import jtplot\n",
    "jtplot.style(theme=\"monokai\")"
   ]
  },
  {
   "cell_type": "markdown",
   "metadata": {},
   "source": [
    "# Import data"
   ]
  },
  {
   "cell_type": "code",
   "execution_count": 2,
   "metadata": {},
   "outputs": [],
   "source": [
    "os.chdir(sys.path[0]+\"/raw_data\")\n",
    "os.listdir()\n",
    "\n",
    "# Read in files and grab daily close prices\n",
    "df = pd.DataFrame(data={\"returns\"})\n",
    "for n, fname in enumerate(os.listdir()):\n",
    "    if n == 0:\n",
    "        ticker = fname.split(\".csv\")[0]\n",
    "        df = pd.read_csv(fname, index_col=\"Date\", parse_dates=True)[[\"Adj Close\"]].rename(columns={\"Adj Close\" : ticker})\n",
    "    else:\n",
    "        ticker = fname.split(\".csv\")[0]\n",
    "        temp_df = pd.read_csv(fname, index_col=\"Date\", parse_dates=True)[[\"Adj Close\"]].rename(columns={\"Adj Close\" : ticker})\n",
    "        df = pd.merge(df, temp_df, left_index=True, right_index=True)\n",
    "        \n",
    "# Convert to daily log returns\n",
    "df = np.log(df) - np.log(df.shift(1))\n",
    "df = df.dropna()\n",
    "\n",
    "# Input to model is each of these time series, so save\n",
    "os.chdir(sys.path[0])\n",
    "df.to_csv(\"log_returns.csv\")"
   ]
  },
  {
   "cell_type": "code",
   "execution_count": 3,
   "metadata": {},
   "outputs": [
    {
     "data": {
      "text/html": [
       "<div>\n",
       "<style scoped>\n",
       "    .dataframe tbody tr th:only-of-type {\n",
       "        vertical-align: middle;\n",
       "    }\n",
       "\n",
       "    .dataframe tbody tr th {\n",
       "        vertical-align: top;\n",
       "    }\n",
       "\n",
       "    .dataframe thead th {\n",
       "        text-align: right;\n",
       "    }\n",
       "</style>\n",
       "<table border=\"1\" class=\"dataframe\">\n",
       "  <thead>\n",
       "    <tr style=\"text-align: right;\">\n",
       "      <th></th>\n",
       "      <th>JNJ</th>\n",
       "      <th>LNG</th>\n",
       "      <th>MSFT</th>\n",
       "      <th>TSLA</th>\n",
       "      <th>V</th>\n",
       "    </tr>\n",
       "    <tr>\n",
       "      <th>Date</th>\n",
       "      <th></th>\n",
       "      <th></th>\n",
       "      <th></th>\n",
       "      <th></th>\n",
       "      <th></th>\n",
       "    </tr>\n",
       "  </thead>\n",
       "  <tbody>\n",
       "    <tr>\n",
       "      <th>2016-01-06</th>\n",
       "      <td>-0.005067</td>\n",
       "      <td>-0.037340</td>\n",
       "      <td>-0.018332</td>\n",
       "      <td>-0.019844</td>\n",
       "      <td>-0.013198</td>\n",
       "    </tr>\n",
       "    <tr>\n",
       "      <th>2016-01-07</th>\n",
       "      <td>-0.011723</td>\n",
       "      <td>-0.058048</td>\n",
       "      <td>-0.035402</td>\n",
       "      <td>-0.015598</td>\n",
       "      <td>-0.019858</td>\n",
       "    </tr>\n",
       "    <tr>\n",
       "      <th>2016-01-08</th>\n",
       "      <td>-0.010741</td>\n",
       "      <td>0.001143</td>\n",
       "      <td>0.003062</td>\n",
       "      <td>-0.021799</td>\n",
       "      <td>-0.012409</td>\n",
       "    </tr>\n",
       "    <tr>\n",
       "      <th>2016-01-11</th>\n",
       "      <td>-0.006029</td>\n",
       "      <td>-0.035469</td>\n",
       "      <td>-0.000574</td>\n",
       "      <td>-0.015041</td>\n",
       "      <td>0.014169</td>\n",
       "    </tr>\n",
       "    <tr>\n",
       "      <th>2016-01-12</th>\n",
       "      <td>0.006843</td>\n",
       "      <td>-0.009515</td>\n",
       "      <td>0.009136</td>\n",
       "      <td>0.010148</td>\n",
       "      <td>0.011299</td>\n",
       "    </tr>\n",
       "  </tbody>\n",
       "</table>\n",
       "</div>"
      ],
      "text/plain": [
       "                 JNJ       LNG      MSFT      TSLA         V\n",
       "Date                                                        \n",
       "2016-01-06 -0.005067 -0.037340 -0.018332 -0.019844 -0.013198\n",
       "2016-01-07 -0.011723 -0.058048 -0.035402 -0.015598 -0.019858\n",
       "2016-01-08 -0.010741  0.001143  0.003062 -0.021799 -0.012409\n",
       "2016-01-11 -0.006029 -0.035469 -0.000574 -0.015041  0.014169\n",
       "2016-01-12  0.006843 -0.009515  0.009136  0.010148  0.011299"
      ]
     },
     "execution_count": 3,
     "metadata": {},
     "output_type": "execute_result"
    }
   ],
   "source": [
    "df.head()"
   ]
  },
  {
   "cell_type": "code",
   "execution_count": 4,
   "metadata": {},
   "outputs": [],
   "source": [
    "data = df.values"
   ]
  },
  {
   "cell_type": "code",
   "execution_count": 5,
   "metadata": {},
   "outputs": [],
   "source": [
    "nobs, ndim = data.shape"
   ]
  },
  {
   "cell_type": "code",
   "execution_count": 6,
   "metadata": {},
   "outputs": [],
   "source": [
    "Sigma_a = np.random.randn(ndim, ndim)\n",
    "Sigma_a = Sigma_a.T.dot(Sigma_a)\n",
    "L_a = sp.linalg.cholesky(Sigma_a, lower=True)"
   ]
  },
  {
   "cell_type": "code",
   "execution_count": 7,
   "metadata": {},
   "outputs": [
    {
     "data": {
      "text/plain": [
       "(1258, 5)"
      ]
     },
     "execution_count": 7,
     "metadata": {},
     "output_type": "execute_result"
    }
   ],
   "source": [
    "data.shape"
   ]
  },
  {
   "cell_type": "code",
   "execution_count": null,
   "metadata": {},
   "outputs": [],
   "source": []
  },
  {
   "cell_type": "markdown",
   "metadata": {},
   "source": [
    "# Custom Distribution"
   ]
  },
  {
   "cell_type": "code",
   "execution_count": 18,
   "metadata": {},
   "outputs": [],
   "source": [
    "from pymc3.distributions import distribution"
   ]
  },
  {
   "cell_type": "code",
   "execution_count": 35,
   "metadata": {},
   "outputs": [],
   "source": [
    "class BatchMultStudentT(distribution.Continuous):\n",
    "    def __init__(self, mu, nu, vols, corr, *args, **kwargs):\n",
    "        super().__init__(*args, **kwargs)\n",
    "        \n",
    "        self.mu = mu\n",
    "        self.vols = vols\n",
    "        self.corr = corr\n",
    "        self.nu = nu\n",
    "        \n",
    "\n",
    "#         self.init = init\n",
    "#         self.innovArgs = (mu, cov, tau, chol, lower)\n",
    "#         self.innov = multivariate.MvNormal.dist(*self.innovArgs, shape=self.shape)\n",
    "#         self.mean = tt.as_tensor_variable(0.0)\n",
    "\n",
    "    def logp(self, x):\n",
    "        \"\"\"\n",
    "        Calculate log-probability of Multivariate Gaussian\n",
    "        Random Walk distribution at specified value.\n",
    "        Parameters\n",
    "        ----------\n",
    "        x: numeric\n",
    "            Value for which log-probability is calculated.\n",
    "        Returns\n",
    "        -------\n",
    "        TensorVariable\n",
    "        \"\"\"\n",
    "        \n",
    "        logp = 0.0\n",
    "        for j in range(self.vols.shape[0]):\n",
    "            vol_array = tt.nlinalg.diag(vols[j,:]).sqrt()\n",
    "            cov_array = tt.nlinalg.matrix_dot(vol_array, self.corr, vol_array)\n",
    "            logp += pm.MvStudentT.dist(mu=self.mu, nu=self.nu, cov=cov_array).logp(x[j,:])\n",
    "\n",
    "        return logp"
   ]
  },
  {
   "cell_type": "code",
   "execution_count": null,
   "metadata": {},
   "outputs": [],
   "source": []
  },
  {
   "cell_type": "code",
   "execution_count": 43,
   "metadata": {},
   "outputs": [],
   "source": [
    "def batch_mult_t_logp(mu, nu, vols, corr, nobs, obs):\n",
    "    '''\n",
    "    Defines log probability for a batch of multivariate Student T's.\n",
    "    '''\n",
    "    logp = 0.0\n",
    "    for j in range(nobs):\n",
    "        vol_array = tt.nlinalg.diag(vols[j,:]).sqrt()\n",
    "        cov_array = tt.nlinalg.matrix_dot(vol_array, corr, vol_array)\n",
    "        logp += pm.MvStudentT.dist(mu=mu, nu=nu, cov=cov_array).logp(obs[j,:])\n",
    "\n",
    "    return logp "
   ]
  },
  {
   "cell_type": "code",
   "execution_count": 44,
   "metadata": {},
   "outputs": [
    {
     "name": "stderr",
     "output_type": "stream",
     "text": [
      "INFO (theano.gof.compilelock): Refreshing lock C:\\Users\\Jonathan\\AppData\\Local\\Theano\\compiledir_Windows-10-10.0.19041-SP0-AMD64_Family_23_Model_113_Stepping_0_AuthenticAMD-3.8.3-64\\lock_dir\\lock\n"
     ]
    },
    {
     "data": {
      "text/plain": [
       "Elemwise{add,no_inplace}.0"
      ]
     },
     "execution_count": 44,
     "metadata": {},
     "output_type": "execute_result"
    }
   ],
   "source": [
    "nobs = 100\n",
    "obs = np.ones((nobs, 5))\n",
    "batch_mult_t_logp(np.zeros(5), 3.0, np.zeros((nobs, 5)), np.identity(5), nobs,  obs)"
   ]
  },
  {
   "cell_type": "code",
   "execution_count": null,
   "metadata": {},
   "outputs": [],
   "source": []
  },
  {
   "cell_type": "code",
   "execution_count": null,
   "metadata": {},
   "outputs": [],
   "source": [
    "batch_mult_t = pm.DensityDist(\"batch_mult_t\", batch_mult_t_logp, observed={})"
   ]
  },
  {
   "cell_type": "code",
   "execution_count": null,
   "metadata": {},
   "outputs": [],
   "source": []
  },
  {
   "cell_type": "code",
   "execution_count": null,
   "metadata": {},
   "outputs": [],
   "source": []
  },
  {
   "cell_type": "code",
   "execution_count": null,
   "metadata": {},
   "outputs": [],
   "source": []
  },
  {
   "cell_type": "markdown",
   "metadata": {},
   "source": [
    "# Model Definition"
   ]
  },
  {
   "cell_type": "code",
   "execution_count": 8,
   "metadata": {},
   "outputs": [],
   "source": [
    "def batch_mult_t_logp(mu, nu, vols, corr, nobs, obs):\n",
    "    '''\n",
    "    Defines log probability for a batch of multivariate Student T's.\n",
    "    '''\n",
    "    logp = 0.0\n",
    "    for j in range(nobs):\n",
    "        vol_array = tt.nlinalg.diag(vols[j,:]).sqrt()\n",
    "        cov_array = tt.nlinalg.matrix_dot(vol_array, corr, vol_array)\n",
    "        logp += pm.MvStudentT.dist(mu=mu, nu=nu, cov=cov_array).logp(obs[j,:])\n",
    "\n",
    "    return logp \n",
    "\n",
    "with pm.Model() as model:\n",
    "    \n",
    "    # Model for volatility.\n",
    "    vol_chol, vol_corr, vol_stds = pm.LKJCholeskyCov(\n",
    "        \"vol_chol\", n=ndim, eta=2.0, sd_dist=pm.Exponential.dist(1.0), compute_corr=True\n",
    "    )\n",
    "    vol_cov = pm.Deterministic(\"vol_cov\", vol_chol.dot(vol_chol.T))\n",
    "    vols = pm.MvGaussianRandomWalk(\"alpha\", mu=0, shape=(nobs, ndim), chol=vol_chol)\n",
    "    vol_process = pm.Deterministic('vol_process', tt.exp(-2*vols))\n",
    "    \n",
    "    # Prior over correlation matrices\n",
    "    corr_nu = pm.Uniform('corr_nu', 0, 5)\n",
    "    C_triu = pm.LKJCorr('C_triu', corr_nu, ndim)\n",
    "    \n",
    "    # Define correlation matrix for observed returns\n",
    "    C = pm.Deterministic('C', tt.fill_diagonal(C_triu[np.zeros((ndim, ndim), dtype=np.int64)], 1.))\n",
    "    \n",
    "    # Prior for mean of observed returns\n",
    "    mu = pm.Normal(\"mu\", 0.0, 1.0, shape=ndim)\n",
    "    \n",
    "    # Tail parameter\n",
    "    nu1 = pm.HalfNormal(\"nu_minus_2\", sigma=1)\n",
    "    nu2 = pm.Deterministic(\"nu\", 2.0+nu1)\n",
    "    \n",
    "    batch_mult_t = pm.Potential(\"likelihood\", batch_mult_t_logp(mu, nu2, vol_process, C, nobs, data))\n",
    "    #batch_mult_t = pm.DensityDist(\"batch_mult_t\", batch_mult_t_logp, observed={\"mu\":mu, \"nu\":nu2, \"vols\":vol_process, \"corr\":C, \"nobs\":nobs, \"obs\":data})\n",
    "    \n",
    "#     for j in range(nobs):\n",
    "#         vol_array = pm.Deterministic(\"vol_array_{}\".format(j), tt.nlinalg.diag(vol_process[j,:]).sqrt())\n",
    "#         cov_array = pm.Deterministic(\"cov_array_{}\".format(j), tt.nlinalg.matrix_dot(vol_array, C, vol_array))\n",
    "#         r = pm.MvStudentT('obs_{}'.format(j), nu=nu2, mu=mu, cov=cov_array, observed=data[j,:])"
   ]
  },
  {
   "cell_type": "code",
   "execution_count": null,
   "metadata": {},
   "outputs": [
    {
     "name": "stderr",
     "output_type": "stream",
     "text": [
      "C:\\Users\\Jonathan\\anaconda3\\lib\\site-packages\\pymc3\\sampling.py:465: FutureWarning: In an upcoming release, pm.sample will return an `arviz.InferenceData` object instead of a `MultiTrace` by default. You can pass return_inferencedata=True or return_inferencedata=False to be safe and silence this warning.\n",
      "  warnings.warn(\n",
      "Auto-assigning NUTS sampler...\n",
      "Initializing NUTS using jitter+adapt_diag...\n"
     ]
    }
   ],
   "source": [
    "with model:\n",
    "    trace = pm.sample(1000, cores=1)"
   ]
  },
  {
   "cell_type": "code",
   "execution_count": null,
   "metadata": {},
   "outputs": [],
   "source": []
  },
  {
   "cell_type": "code",
   "execution_count": 30,
   "metadata": {},
   "outputs": [],
   "source": [
    "theano.config.compute_test_value = \"ignore\""
   ]
  },
  {
   "cell_type": "code",
   "execution_count": 32,
   "metadata": {},
   "outputs": [
    {
     "name": "stdout",
     "output_type": "stream",
     "text": [
      "[31.]\n"
     ]
    }
   ],
   "source": [
    "x = tt.dvector('x')\n",
    "y = tt.dvector('y')\n",
    "\n",
    "def fun(x,a,b):\n",
    "    return x+b\n",
    "\n",
    "results, updates = theano.scan(\n",
    "    fn=fun,\n",
    "    sequences=dict(input=x), \n",
    "    outputs_info=dict(initial=y, taps=[-5,-3])\n",
    ")\n",
    "\n",
    "h = [10.,20,30,40,50,60,70]\n",
    "f = theano.function([x, y], results)\n",
    "g = theano.function([y], y)\n",
    "\n",
    "print(f([1],h))"
   ]
  },
  {
   "cell_type": "code",
   "execution_count": null,
   "metadata": {},
   "outputs": [],
   "source": []
  },
  {
   "cell_type": "code",
   "execution_count": null,
   "metadata": {},
   "outputs": [],
   "source": []
  },
  {
   "cell_type": "markdown",
   "metadata": {},
   "source": [
    "# Theano scan function notes\n",
    "outputs, updates = theano.scan(\n",
    "    fn = some_function,\n",
    "    sequences = thing_to_loop_over,\n",
    "    n_steps = number_of_times_to_iterate\n",
    ")"
   ]
  },
  {
   "cell_type": "code",
   "execution_count": null,
   "metadata": {},
   "outputs": [],
   "source": []
  },
  {
   "cell_type": "code",
   "execution_count": 33,
   "metadata": {},
   "outputs": [
    {
     "name": "stderr",
     "output_type": "stream",
     "text": [
      "INFO (theano.gof.compilelock): Refreshing lock C:\\Users\\Jonathan\\AppData\\Local\\Theano\\compiledir_Windows-10-10.0.19041-SP0-AMD64_Family_23_Model_113_Stepping_0_AuthenticAMD-3.8.3-64\\lock_dir\\lock\n"
     ]
    }
   ],
   "source": [
    "x = tt.vector(\"x\")\n",
    "\n",
    "def square(x):\n",
    "    return x*x\n",
    "\n",
    "outputs, updates = theano.scan(\n",
    "    fn = square,\n",
    "    sequences = x,\n",
    "    n_steps = x.shape[0]\n",
    ")\n",
    "\n",
    "square_op = theano.function(\n",
    "    inputs = [x],\n",
    "    outputs = [outputs]\n",
    ")\n",
    "\n",
    "o_val = square_op(np.array([1, 2, 3, 4, 5]))"
   ]
  },
  {
   "cell_type": "code",
   "execution_count": 34,
   "metadata": {},
   "outputs": [
    {
     "data": {
      "text/plain": [
       "[array([ 1.,  4.,  9., 16., 25.])]"
      ]
     },
     "execution_count": 34,
     "metadata": {},
     "output_type": "execute_result"
    }
   ],
   "source": [
    "o_val"
   ]
  },
  {
   "cell_type": "code",
   "execution_count": null,
   "metadata": {},
   "outputs": [],
   "source": [
    "result = tt.vector(\"x\")\n",
    "\n",
    "def square(prev_sum,):\n",
    "    return x*x\n",
    "\n",
    "outputs, updates = theano.scan(\n",
    "    fn = square,\n",
    "    sequences = x,\n",
    "    n_steps = x.shape[0]\n",
    ")\n",
    "\n",
    "square_op = theano.function(\n",
    "    inputs = [x],\n",
    "    outputs = [outputs]\n",
    ")\n",
    "\n",
    "o_val = square_op(np.array([1, 2, 3, 4, 5]))"
   ]
  },
  {
   "cell_type": "code",
   "execution_count": null,
   "metadata": {},
   "outputs": [],
   "source": []
  },
  {
   "cell_type": "code",
   "execution_count": null,
   "metadata": {},
   "outputs": [],
   "source": []
  },
  {
   "cell_type": "code",
   "execution_count": 40,
   "metadata": {},
   "outputs": [
    {
     "ename": "AttributeError",
     "evalue": "'MvGaussianRandomWalk' object has no attribute 'random'",
     "output_type": "error",
     "traceback": [
      "\u001b[1;31m---------------------------------------------------------------------------\u001b[0m",
      "\u001b[1;31mAttributeError\u001b[0m                            Traceback (most recent call last)",
      "\u001b[1;32m<ipython-input-40-b54053bbf001>\u001b[0m in \u001b[0;36m<module>\u001b[1;34m\u001b[0m\n\u001b[1;32m----> 1\u001b[1;33m \u001b[0mpm\u001b[0m\u001b[1;33m.\u001b[0m\u001b[0mMvGaussianRandomWalk\u001b[0m\u001b[1;33m.\u001b[0m\u001b[0mdist\u001b[0m\u001b[1;33m(\u001b[0m\u001b[0mmu\u001b[0m\u001b[1;33m=\u001b[0m\u001b[0mnp\u001b[0m\u001b[1;33m.\u001b[0m\u001b[0mzeros\u001b[0m\u001b[1;33m(\u001b[0m\u001b[1;33m(\u001b[0m\u001b[0mnobs\u001b[0m\u001b[1;33m,\u001b[0m \u001b[0mndim\u001b[0m\u001b[1;33m)\u001b[0m\u001b[1;33m)\u001b[0m\u001b[1;33m,\u001b[0m \u001b[0mshape\u001b[0m\u001b[1;33m=\u001b[0m\u001b[1;33m(\u001b[0m\u001b[0mnobs\u001b[0m\u001b[1;33m,\u001b[0m \u001b[0mndim\u001b[0m\u001b[1;33m)\u001b[0m\u001b[1;33m,\u001b[0m \u001b[0mchol\u001b[0m\u001b[1;33m=\u001b[0m\u001b[0mL_a\u001b[0m\u001b[1;33m)\u001b[0m\u001b[1;33m.\u001b[0m\u001b[0mrandom\u001b[0m\u001b[1;33m(\u001b[0m\u001b[1;33m)\u001b[0m\u001b[1;33m\u001b[0m\u001b[1;33m\u001b[0m\u001b[0m\n\u001b[0m",
      "\u001b[1;31mAttributeError\u001b[0m: 'MvGaussianRandomWalk' object has no attribute 'random'"
     ]
    }
   ],
   "source": [
    "pm.MvGaussianRandomWalk.dist(mu=np.zeros((nobs, ndim)), shape=(nobs, ndim), chol=L_a).random()"
   ]
  },
  {
   "cell_type": "code",
   "execution_count": 41,
   "metadata": {},
   "outputs": [],
   "source": [
    "from pymc3.distributions.timeseries import MvGaussianRandomWalk"
   ]
  },
  {
   "cell_type": "code",
   "execution_count": 44,
   "metadata": {},
   "outputs": [
    {
     "ename": "TypeError",
     "evalue": "'NoneType' object is not callable",
     "output_type": "error",
     "traceback": [
      "\u001b[1;31m---------------------------------------------------------------------------\u001b[0m",
      "\u001b[1;31mTypeError\u001b[0m                                 Traceback (most recent call last)",
      "\u001b[1;32m<ipython-input-44-55020bfcd2ca>\u001b[0m in \u001b[0;36m<module>\u001b[1;34m\u001b[0m\n\u001b[0;32m      3\u001b[0m     cov = np.array([[1.0, 0.0],\n\u001b[0;32m      4\u001b[0m                     [0.0, 2.0]])\n\u001b[1;32m----> 5\u001b[1;33m     \u001b[0msample\u001b[0m \u001b[1;33m=\u001b[0m \u001b[0mMvGaussianRandomWalk\u001b[0m\u001b[1;33m(\u001b[0m\u001b[1;34m\"name\"\u001b[0m\u001b[1;33m,\u001b[0m \u001b[0mmu\u001b[0m\u001b[1;33m,\u001b[0m \u001b[0mcov\u001b[0m\u001b[1;33m,\u001b[0m \u001b[0mshape\u001b[0m\u001b[1;33m=\u001b[0m\u001b[1;33m(\u001b[0m\u001b[1;36m10\u001b[0m\u001b[1;33m,\u001b[0m \u001b[1;36m2\u001b[0m\u001b[1;33m)\u001b[0m\u001b[1;33m)\u001b[0m\u001b[1;33m.\u001b[0m\u001b[0mrandom\u001b[0m\u001b[1;33m(\u001b[0m\u001b[1;33m)\u001b[0m\u001b[1;33m\u001b[0m\u001b[1;33m\u001b[0m\u001b[0m\n\u001b[0m",
      "\u001b[1;31mTypeError\u001b[0m: 'NoneType' object is not callable"
     ]
    }
   ],
   "source": [
    "with pm.Model():\n",
    "    mu = np.array([1.0, 0.0])\n",
    "    cov = np.array([[1.0, 0.0],\n",
    "                    [0.0, 2.0]])\n",
    "    sample = MvGaussianRandomWalk(mu, cov, shape=(10, 2)).random()"
   ]
  },
  {
   "cell_type": "code",
   "execution_count": 47,
   "metadata": {},
   "outputs": [
    {
     "ename": "AttributeError",
     "evalue": "'MvGaussianRandomWalk' object has no attribute 'random'",
     "output_type": "error",
     "traceback": [
      "\u001b[1;31m---------------------------------------------------------------------------\u001b[0m",
      "\u001b[1;31mAttributeError\u001b[0m                            Traceback (most recent call last)",
      "\u001b[1;32m<ipython-input-47-98e76ee347ec>\u001b[0m in \u001b[0;36m<module>\u001b[1;34m\u001b[0m\n\u001b[1;32m----> 1\u001b[1;33m \u001b[0msample\u001b[0m \u001b[1;33m=\u001b[0m \u001b[0mMvGaussianRandomWalk\u001b[0m\u001b[1;33m.\u001b[0m\u001b[0mdist\u001b[0m\u001b[1;33m(\u001b[0m\u001b[0mmu\u001b[0m\u001b[1;33m,\u001b[0m \u001b[0mcov\u001b[0m\u001b[1;33m,\u001b[0m \u001b[0mshape\u001b[0m\u001b[1;33m=\u001b[0m\u001b[1;33m(\u001b[0m\u001b[1;36m10\u001b[0m\u001b[1;33m,\u001b[0m \u001b[1;36m2\u001b[0m\u001b[1;33m)\u001b[0m\u001b[1;33m)\u001b[0m\u001b[1;33m.\u001b[0m\u001b[0mrandom\u001b[0m\u001b[1;33m(\u001b[0m\u001b[0msize\u001b[0m\u001b[1;33m=\u001b[0m\u001b[1;36m10\u001b[0m\u001b[1;33m)\u001b[0m\u001b[1;33m\u001b[0m\u001b[1;33m\u001b[0m\u001b[0m\n\u001b[0m",
      "\u001b[1;31mAttributeError\u001b[0m: 'MvGaussianRandomWalk' object has no attribute 'random'"
     ]
    }
   ],
   "source": [
    "sample = MvGaussianRandomWalk.dist(mu, cov, shape=(10, 2)).random()"
   ]
  },
  {
   "cell_type": "code",
   "execution_count": null,
   "metadata": {},
   "outputs": [],
   "source": [
    "\n",
    "            with pm.Model():\n",
    "                mu = np.array([1.0, 0.0])\n",
    "                cov = np.array([[1.0, 0.0],\n",
    "                                [0.0, 2.0]])\n",
    "                # draw one sample from a 2-dimensional Gaussian random walk with 10 timesteps\n",
    "                sample = MvGaussianRandomWalk(mu, cov, shape=(10, 2)).random()\n",
    "                # draw three samples from a 2-dimensional Gaussian random walk with 10 timesteps\n",
    "                sample = MvGaussianRandomWalk(mu, cov, shape=(10, 2)).random(size=3)\n",
    "                # draw four samples from a 2-dimensional Gaussian random walk with 10 timesteps,\n",
    "                # indexed with a (2, 2) array\n",
    "                sample = MvGaussianRandomWalk(mu, cov, shape=(10, 2)).random(size=(2, 2))\n",
    "        \"\"\""
   ]
  },
  {
   "cell_type": "code",
   "execution_count": null,
   "metadata": {},
   "outputs": [],
   "source": []
  },
  {
   "cell_type": "code",
   "execution_count": null,
   "metadata": {},
   "outputs": [],
   "source": [
    "  #packed_L_a = pm.LKJCholeskyCov(\"packed_L_a\", n=ndim, eta=2.0, sd_dist=pm.HalfCauchy.dist(2.5))\n",
    "    #L_a = pm.expand_packed_triangular(ndim, packed_L_a)\n",
    "    #a = pm.MvGaussianRandomWalk(\"alpha\", mu=0, shape=(nobs, ndim), chol=L_a)\n",
    "    #vol_process = pm.Deterministic('vol_process', tt.exp(-2*a))\n",
    "    \n",
    "    # Correlation in observed returns (independent of volatility)"
   ]
  },
  {
   "cell_type": "code",
   "execution_count": null,
   "metadata": {},
   "outputs": [],
   "source": []
  },
  {
   "cell_type": "code",
   "execution_count": null,
   "metadata": {},
   "outputs": [],
   "source": []
  },
  {
   "cell_type": "code",
   "execution_count": null,
   "metadata": {},
   "outputs": [],
   "source": []
  },
  {
   "cell_type": "code",
   "execution_count": null,
   "metadata": {},
   "outputs": [],
   "source": []
  },
  {
   "cell_type": "code",
   "execution_count": null,
   "metadata": {},
   "outputs": [],
   "source": []
  },
  {
   "cell_type": "code",
   "execution_count": null,
   "metadata": {},
   "outputs": [],
   "source": []
  },
  {
   "cell_type": "code",
   "execution_count": null,
   "metadata": {},
   "outputs": [],
   "source": []
  },
  {
   "cell_type": "code",
   "execution_count": null,
   "metadata": {},
   "outputs": [],
   "source": []
  },
  {
   "cell_type": "code",
   "execution_count": null,
   "metadata": {},
   "outputs": [],
   "source": []
  },
  {
   "cell_type": "code",
   "execution_count": null,
   "metadata": {},
   "outputs": [],
   "source": []
  },
  {
   "cell_type": "code",
   "execution_count": null,
   "metadata": {},
   "outputs": [],
   "source": []
  },
  {
   "cell_type": "code",
   "execution_count": null,
   "metadata": {},
   "outputs": [],
   "source": []
  },
  {
   "cell_type": "code",
   "execution_count": null,
   "metadata": {},
   "outputs": [],
   "source": []
  },
  {
   "cell_type": "code",
   "execution_count": null,
   "metadata": {},
   "outputs": [],
   "source": []
  },
  {
   "cell_type": "code",
   "execution_count": null,
   "metadata": {},
   "outputs": [],
   "source": []
  },
  {
   "cell_type": "code",
   "execution_count": null,
   "metadata": {},
   "outputs": [],
   "source": []
  },
  {
   "cell_type": "code",
   "execution_count": null,
   "metadata": {},
   "outputs": [],
   "source": []
  },
  {
   "cell_type": "code",
   "execution_count": null,
   "metadata": {},
   "outputs": [],
   "source": []
  },
  {
   "cell_type": "code",
   "execution_count": null,
   "metadata": {},
   "outputs": [],
   "source": []
  },
  {
   "cell_type": "code",
   "execution_count": null,
   "metadata": {},
   "outputs": [],
   "source": []
  },
  {
   "cell_type": "code",
   "execution_count": null,
   "metadata": {},
   "outputs": [],
   "source": []
  }
 ],
 "metadata": {
  "kernelspec": {
   "display_name": "Python 3",
   "language": "python",
   "name": "python3"
  },
  "language_info": {
   "codemirror_mode": {
    "name": "ipython",
    "version": 3
   },
   "file_extension": ".py",
   "mimetype": "text/x-python",
   "name": "python",
   "nbconvert_exporter": "python",
   "pygments_lexer": "ipython3",
   "version": "3.8.3"
  }
 },
 "nbformat": 4,
 "nbformat_minor": 4
}
