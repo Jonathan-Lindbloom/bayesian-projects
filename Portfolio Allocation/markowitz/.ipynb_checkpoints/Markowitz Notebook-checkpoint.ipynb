{
 "cells": [
  {
   "cell_type": "code",
   "execution_count": 1,
   "metadata": {},
   "outputs": [],
   "source": [
    "import numpy as np\n",
    "import matplotlib.pyplot as plt\n",
    "import pandas as pd\n",
    "import pandas_market_calendars as mcal\n",
    "import datetime as dt\n",
    "import scipy as sp\n",
    "\n",
    "import pymc3 as pm\n",
    "from theano import tensor as tt\n",
    "from theano import shared\n",
    "import arviz as az\n",
    "az.style.use(\"arviz-darkgrid\")\n",
    "\n",
    "import os\n",
    "import sys\n",
    "\n",
    "\n",
    "from jupyterthemes import jtplot\n",
    "jtplot.style(theme=\"monokai\")"
   ]
  },
  {
   "cell_type": "markdown",
   "metadata": {},
   "source": [
    "# data_processing.py\n",
    "\n",
    "In the Markowitz case, the only two things we need from the data are the covariance matrix and a vector of expected returns for each asset."
   ]
  },
  {
   "cell_type": "code",
   "execution_count": 2,
   "metadata": {},
   "outputs": [
    {
     "data": {
      "text/plain": [
       "['.ipynb_checkpoints', 'Markowitz Notebook.ipynb', 'raw_data']"
      ]
     },
     "execution_count": 2,
     "metadata": {},
     "output_type": "execute_result"
    }
   ],
   "source": [
    "os.listdir()"
   ]
  },
  {
   "cell_type": "code",
   "execution_count": 38,
   "metadata": {},
   "outputs": [
    {
     "data": {
      "text/plain": [
       "['JNJ.csv', 'LNG.csv', 'MSFT.csv', 'TSLA.csv', 'V.csv']"
      ]
     },
     "execution_count": 38,
     "metadata": {},
     "output_type": "execute_result"
    }
   ],
   "source": [
    "os.chdir(sys.path[0]+\"/raw_data\")\n",
    "os.listdir()"
   ]
  },
  {
   "cell_type": "code",
   "execution_count": 39,
   "metadata": {},
   "outputs": [],
   "source": [
    "# Read in files and grab daily close prices\n",
    "df = pd.DataFrame(data={\"returns\"})\n",
    "for n, fname in enumerate(os.listdir()):\n",
    "    if n == 0:\n",
    "        ticker = fname.split(\".csv\")[0]\n",
    "        df = pd.read_csv(fname, index_col=\"Date\", parse_dates=True)[[\"Adj Close\"]].rename(columns={\"Adj Close\" : ticker})\n",
    "    else:\n",
    "        ticker = fname.split(\".csv\")[0]\n",
    "        temp_df = pd.read_csv(fname, index_col=\"Date\", parse_dates=True)[[\"Adj Close\"]].rename(columns={\"Adj Close\" : ticker})\n",
    "        df = pd.merge(df, temp_df, left_index=True, right_index=True)"
   ]
  },
  {
   "cell_type": "code",
   "execution_count": 40,
   "metadata": {},
   "outputs": [],
   "source": [
    "# Convert to daily log returns\n",
    "df = np.log(df) - np.log(df.shift(1))\n",
    "df = df.dropna()"
   ]
  },
  {
   "cell_type": "code",
   "execution_count": 41,
   "metadata": {},
   "outputs": [
    {
     "data": {
      "text/html": [
       "<div>\n",
       "<style scoped>\n",
       "    .dataframe tbody tr th:only-of-type {\n",
       "        vertical-align: middle;\n",
       "    }\n",
       "\n",
       "    .dataframe tbody tr th {\n",
       "        vertical-align: top;\n",
       "    }\n",
       "\n",
       "    .dataframe thead th {\n",
       "        text-align: right;\n",
       "    }\n",
       "</style>\n",
       "<table border=\"1\" class=\"dataframe\">\n",
       "  <thead>\n",
       "    <tr style=\"text-align: right;\">\n",
       "      <th></th>\n",
       "      <th>JNJ</th>\n",
       "      <th>LNG</th>\n",
       "      <th>MSFT</th>\n",
       "      <th>TSLA</th>\n",
       "      <th>V</th>\n",
       "    </tr>\n",
       "  </thead>\n",
       "  <tbody>\n",
       "    <tr>\n",
       "      <th>JNJ</th>\n",
       "      <td>0.000158</td>\n",
       "      <td>0.000066</td>\n",
       "      <td>0.000110</td>\n",
       "      <td>0.000073</td>\n",
       "      <td>0.000105</td>\n",
       "    </tr>\n",
       "    <tr>\n",
       "      <th>LNG</th>\n",
       "      <td>0.000066</td>\n",
       "      <td>0.000566</td>\n",
       "      <td>0.000145</td>\n",
       "      <td>0.000212</td>\n",
       "      <td>0.000175</td>\n",
       "    </tr>\n",
       "    <tr>\n",
       "      <th>MSFT</th>\n",
       "      <td>0.000110</td>\n",
       "      <td>0.000145</td>\n",
       "      <td>0.000306</td>\n",
       "      <td>0.000266</td>\n",
       "      <td>0.000218</td>\n",
       "    </tr>\n",
       "    <tr>\n",
       "      <th>TSLA</th>\n",
       "      <td>0.000073</td>\n",
       "      <td>0.000212</td>\n",
       "      <td>0.000266</td>\n",
       "      <td>0.001322</td>\n",
       "      <td>0.000230</td>\n",
       "    </tr>\n",
       "    <tr>\n",
       "      <th>V</th>\n",
       "      <td>0.000105</td>\n",
       "      <td>0.000175</td>\n",
       "      <td>0.000218</td>\n",
       "      <td>0.000230</td>\n",
       "      <td>0.000271</td>\n",
       "    </tr>\n",
       "  </tbody>\n",
       "</table>\n",
       "</div>"
      ],
      "text/plain": [
       "           JNJ       LNG      MSFT      TSLA         V\n",
       "JNJ   0.000158  0.000066  0.000110  0.000073  0.000105\n",
       "LNG   0.000066  0.000566  0.000145  0.000212  0.000175\n",
       "MSFT  0.000110  0.000145  0.000306  0.000266  0.000218\n",
       "TSLA  0.000073  0.000212  0.000266  0.001322  0.000230\n",
       "V     0.000105  0.000175  0.000218  0.000230  0.000271"
      ]
     },
     "execution_count": 41,
     "metadata": {},
     "output_type": "execute_result"
    }
   ],
   "source": [
    "# Compute cov matrix\n",
    "cov = df.cov()\n",
    "cov.head()"
   ]
  },
  {
   "cell_type": "code",
   "execution_count": 42,
   "metadata": {},
   "outputs": [
    {
     "data": {
      "text/plain": [
       "JNJ     0.000456\n",
       "LNG     0.000339\n",
       "MSFT    0.001166\n",
       "TSLA    0.002220\n",
       "V       0.000862\n",
       "dtype: float64"
      ]
     },
     "execution_count": 42,
     "metadata": {},
     "output_type": "execute_result"
    }
   ],
   "source": [
    "# Compute mean log returns\n",
    "means = df.mean()\n",
    "means.head()"
   ]
  },
  {
   "cell_type": "code",
   "execution_count": 47,
   "metadata": {},
   "outputs": [],
   "source": [
    "# Save outputs\n",
    "cov.to_csv(\"cov_matrix.csv\")\n",
    "means.to_csv(\"ex_returns.csv\")"
   ]
  },
  {
   "cell_type": "markdown",
   "metadata": {},
   "source": [
    "### Functions"
   ]
  },
  {
   "cell_type": "code",
   "execution_count": 2,
   "metadata": {},
   "outputs": [],
   "source": [
    "def process_data():\n",
    "    '''\n",
    "    Computes and saves the covariance matrix + vector of expected returns.\n",
    "    '''\n",
    "    # Change directory\n",
    "    os.chdir(sys.path[0]+\"/raw_data\")\n",
    "    os.listdir()\n",
    "    \n",
    "    # Read in files and grab daily close prices\n",
    "    df = pd.DataFrame(data={\"returns\"})\n",
    "    for n, fname in enumerate(os.listdir()):\n",
    "        if n == 0:\n",
    "            ticker = fname.split(\".csv\")[0]\n",
    "            df = pd.read_csv(fname, index_col=\"Date\", parse_dates=True)[[\"Adj Close\"]].rename(columns={\"Adj Close\" : ticker})\n",
    "        else:\n",
    "            ticker = fname.split(\".csv\")[0]\n",
    "            temp_df = pd.read_csv(fname, index_col=\"Date\", parse_dates=True)[[\"Adj Close\"]].rename(columns={\"Adj Close\" : ticker})\n",
    "            df = pd.merge(df, temp_df, left_index=True, right_index=True)\n",
    "            \n",
    "    # Convert to daily log returns\n",
    "    df = np.log(df) - np.log(df.shift(1))\n",
    "    df = df.dropna()\n",
    "    \n",
    "    # Compute cov matrix\n",
    "    cov = df.cov()\n",
    "    \n",
    "    # Compute mean log returns\n",
    "    means = df.mean()\n",
    "    \n",
    "    # Go back up a directory and save\n",
    "    os.chdir(sys.path[0])\n",
    "    cov.to_csv(\"cov_matrix.csv\")\n",
    "    means.to_csv(\"ex_returns.csv\")"
   ]
  },
  {
   "cell_type": "code",
   "execution_count": 3,
   "metadata": {},
   "outputs": [],
   "source": [
    "process_data()"
   ]
  },
  {
   "cell_type": "code",
   "execution_count": 4,
   "metadata": {},
   "outputs": [
    {
     "data": {
      "text/plain": [
       "['.ipynb_checkpoints',\n",
       " 'cov_matrix.csv',\n",
       " 'ex_returns.csv',\n",
       " 'Markowitz Notebook.ipynb',\n",
       " 'raw_data']"
      ]
     },
     "execution_count": 4,
     "metadata": {},
     "output_type": "execute_result"
    }
   ],
   "source": [
    "os.listdir()"
   ]
  },
  {
   "cell_type": "markdown",
   "metadata": {},
   "source": [
    "# loss_function.py\n",
    "\n",
    "Takes the covariance matrix and expected return vector to compute the loss function."
   ]
  },
  {
   "cell_type": "code",
   "execution_count": 33,
   "metadata": {},
   "outputs": [],
   "source": [
    "cov = pd.read_csv(\"cov_matrix.csv\", index_col=0).values\n",
    "means = pd.read_csv(\"ex_returns.csv\", index_col=0).values"
   ]
  },
  {
   "cell_type": "code",
   "execution_count": 18,
   "metadata": {},
   "outputs": [
    {
     "data": {
      "image/png": "[encoded data removed]",
      "text/plain": [
       "<Figure size 640x560 with 1 Axes>"
      ]
     },
     "metadata": {},
     "output_type": "display_data"
    }
   ],
   "source": [
    "plt.imshow(cov)\n",
    "plt.show()"
   ]
  },
  {
   "cell_type": "code",
   "execution_count": 25,
   "metadata": {},
   "outputs": [
    {
     "name": "stdout",
     "output_type": "stream",
     "text": [
      "(5,)\n"
     ]
    }
   ],
   "source": [
    "# Dummy vector of weights\n",
    "w = np.array([0.1, 0.1, 0.0, 0.4, 0.4])\n",
    "print(w.shape)"
   ]
  },
  {
   "cell_type": "code",
   "execution_count": 26,
   "metadata": {},
   "outputs": [
    {
     "data": {
      "text/plain": [
       "(5, 5)"
      ]
     },
     "execution_count": 26,
     "metadata": {},
     "output_type": "execute_result"
    }
   ],
   "source": [
    "cov.shape"
   ]
  },
  {
   "cell_type": "code",
   "execution_count": 29,
   "metadata": {},
   "outputs": [
    {
     "data": {
      "text/plain": [
       "0.0003823178455655033"
      ]
     },
     "execution_count": 29,
     "metadata": {},
     "output_type": "execute_result"
    }
   ],
   "source": [
    "np.matmul( w.T , np.matmul(cov, w) )"
   ]
  },
  {
   "cell_type": "code",
   "execution_count": 34,
   "metadata": {},
   "outputs": [
    {
     "data": {
      "text/plain": [
       "array([0.00131257])"
      ]
     },
     "execution_count": 34,
     "metadata": {},
     "output_type": "execute_result"
    }
   ],
   "source": [
    "np.matmul( means.T, w )"
   ]
  },
  {
   "cell_type": "markdown",
   "metadata": {},
   "source": [
    "### Functions"
   ]
  },
  {
   "cell_type": "code",
   "execution_count": 60,
   "metadata": {},
   "outputs": [],
   "source": [
    "def loss(weights, cov, means, q):\n",
    "    '''\n",
    "    Loss function for markowitz mean-variance optimization. q \\in [0, \\infty), represents risk tolerance.\n",
    "    '''\n",
    "    term1 = np.matmul( w.T , np.matmul(cov, w) )\n",
    "    term2 = - q*np.matmul( means.T, w )\n",
    "    return term1 + term2"
   ]
  },
  {
   "cell_type": "code",
   "execution_count": null,
   "metadata": {},
   "outputs": [],
   "source": []
  },
  {
   "cell_type": "markdown",
   "metadata": {},
   "source": [
    "# optimize.py\n",
    "This function finds the optimal weights."
   ]
  },
  {
   "cell_type": "code",
   "execution_count": 49,
   "metadata": {},
   "outputs": [],
   "source": [
    "from scipy.optimize import minimize"
   ]
  },
  {
   "cell_type": "code",
   "execution_count": 47,
   "metadata": {},
   "outputs": [
    {
     "name": "stdout",
     "output_type": "stream",
     "text": [
      "[0.24761905 0.17142857 0.06190476 0.09047619 0.42857143]\n"
     ]
    }
   ],
   "source": [
    "rand_nums = np.random.randint(100, size=5)\n",
    "rand_weight = rand_nums/rand_nums.sum()\n",
    "print(rand_weight)"
   ]
  },
  {
   "cell_type": "code",
   "execution_count": 159,
   "metadata": {},
   "outputs": [
    {
     "name": "stdout",
     "output_type": "stream",
     "text": [
      "[0.24761905 0.17142857 0.06190476 0.09047619 0.42857143]\n"
     ]
    }
   ],
   "source": [
    "q = 0.0\n",
    "result = minimize(loss, rand_weight, args=(cov, means, q))\n",
    "optimal_weight = result.x\n",
    "print(optimal_weight)"
   ]
  },
  {
   "cell_type": "markdown",
   "metadata": {},
   "source": [
    "### Functions"
   ]
  },
  {
   "cell_type": "code",
   "execution_count": 259,
   "metadata": {},
   "outputs": [],
   "source": [
    "# This one doesn't use convex optimization, and keeps falling into local optimums.\n",
    "# def find_optimal_weights(loss, cov, means, q, niter=1000):\n",
    "#     '''\n",
    "#     Given the loss function, finds and returns the minizing weight vector.\n",
    "#     '''\n",
    "#     from scipy.optimize import minimize, basinhopping\n",
    "    \n",
    "#     rand_nums = np.random.randint(100, size=5)\n",
    "#     rand_weight = rand_nums/rand_nums.sum()\n",
    "#     #result = minimize(loss, rand_weight, args=(cov, means, q), tol=tol)\n",
    "#     result = basinhopping(loss, rand_weight, niter=niter, minimizer_kwargs={\"args\":(cov, means, q)})\n",
    "#     optimal_weight = result.x    \n",
    "    \n",
    "#     return optimal_weight\n",
    "\n",
    "def find_optimal_weights(loss, cov, means, q):\n",
    "    '''\n",
    "    Given the loss function, finds and returns the minizing weight vector.\n",
    "    '''\n",
    "    import cvxpy as cp\n",
    "    \n",
    "    w = cp.Variable(5)\n",
    "    risk_tol = cp.Parameter(nonneg=True)\n",
    "    ret = means.T*w \n",
    "    risk = cp.quad_form(w, cov)\n",
    "    prob = cp.Problem(cp.Minimize(risk - risk_tol*ret), \n",
    "                   [cp.sum(w) == 1, \n",
    "                    w >= 0])\n",
    "    risk_tol.value = q\n",
    "    prob.solve()\n",
    "    risk_data = cp.sqrt(risk).value\n",
    "    ret_data = ret.value\n",
    "    \n",
    "    return w.value"
   ]
  },
  {
   "cell_type": "code",
   "execution_count": 260,
   "metadata": {},
   "outputs": [
    {
     "name": "stderr",
     "output_type": "stream",
     "text": [
      "C:\\Users\\Jonathan\\anaconda3\\lib\\site-packages\\cvxpy\\expressions\\expression.py:550: UserWarning: \n",
      "This use of ``*`` has resulted in matrix multiplication.\n",
      "Using ``*`` for matrix multiplication has been deprecated since CVXPY 1.1.\n",
      "    Use ``*`` for matrix-scalar and vector-scalar multiplication.\n",
      "    Use ``@`` for matrix-matrix and matrix-vector multiplication.\n",
      "    Use ``multiply`` for elementwise multiplication.\n",
      "\n",
      "  warnings.warn(__STAR_MATMUL_WARNING__, UserWarning)\n"
     ]
    }
   ],
   "source": [
    "q = 10.0\n",
    "res = find_optimal_weights(loss, cov, means, q)"
   ]
  },
  {
   "cell_type": "code",
   "execution_count": 70,
   "metadata": {},
   "outputs": [],
   "source": [
    "tickers = pd.read_csv(\"cov_matrix.csv\", index_col=0).index.to_list()"
   ]
  },
  {
   "cell_type": "code",
   "execution_count": 79,
   "metadata": {},
   "outputs": [],
   "source": [
    "import csv"
   ]
  },
  {
   "cell_type": "code",
   "execution_count": 80,
   "metadata": {},
   "outputs": [],
   "source": [
    "weight_dict = dict(zip(tickers, res))"
   ]
  },
  {
   "cell_type": "code",
   "execution_count": 82,
   "metadata": {},
   "outputs": [],
   "source": [
    "with open('optimal_weights.csv', 'w') as f:\n",
    "    f.truncate()\n",
    "    for key in weight_dict.keys():\n",
    "        f.write(\"%s,%s\\n\"%(key,weight_dict[key]))"
   ]
  },
  {
   "cell_type": "code",
   "execution_count": 83,
   "metadata": {},
   "outputs": [
    {
     "name": "stdout",
     "output_type": "stream",
     "text": [
      "\n",
      "Optimal Portfolio Weights:\n",
      "\n",
      "JNJ: 0.21839080459770116\n",
      "LNG: 0.05747126436781609\n",
      "MSFT: 0.22413793103448276\n",
      "TSLA: 0.10919540229885058\n",
      "V: 0.39080459770114945\n",
      "\n"
     ]
    }
   ],
   "source": [
    "print()\n",
    "print(\"Optimal Portfolio Weights:\")\n",
    "print()\n",
    "for key, value in weight_dict.items():\n",
    "    print(\"{}: {}\".format(key, value))\n",
    "print()"
   ]
  },
  {
   "cell_type": "markdown",
   "metadata": {},
   "source": [
    "# analysis.py\n",
    "Tools for analyzing results and seeing if things make sense."
   ]
  },
  {
   "cell_type": "code",
   "execution_count": 85,
   "metadata": {},
   "outputs": [],
   "source": [
    "def compute_port_stdev(weights, cov):\n",
    "    '''\n",
    "    Given weights and covariance matrix, computes portfolio annualized volatility.\n",
    "    '''\n",
    "    port_var = np.matmul(weights.T, np.matmul(cov, weights))\n",
    "    return np.sqrt(port_var)"
   ]
  },
  {
   "cell_type": "code",
   "execution_count": 86,
   "metadata": {},
   "outputs": [],
   "source": [
    "def compute_port_ret(weights, means):\n",
    "    '''\n",
    "    Given weights and means, computes portfolio expected return vector.\n",
    "    '''\n",
    "    return np.matmul(means.T, weights)"
   ]
  },
  {
   "cell_type": "code",
   "execution_count": null,
   "metadata": {},
   "outputs": [],
   "source": [
    "rand_nums = np.random.randint(100, size=5)\n",
    "    rand_weight = rand_nums/rand_nums.sum()"
   ]
  },
  {
   "cell_type": "code",
   "execution_count": 87,
   "metadata": {},
   "outputs": [
    {
     "data": {
      "text/plain": [
       "array([[17, 85, 67, 31, 54],\n",
       "       [68, 43, 62, 50, 14],\n",
       "       [76, 41, 26, 16, 15],\n",
       "       ...,\n",
       "       [64, 37, 44, 81, 15],\n",
       "       [73, 65,  5, 47, 45],\n",
       "       [23, 36, 80, 38, 62]])"
      ]
     },
     "execution_count": 87,
     "metadata": {},
     "output_type": "execute_result"
    }
   ],
   "source": [
    "np.random.randint(100, size=(1000, 5))"
   ]
  },
  {
   "cell_type": "code",
   "execution_count": 288,
   "metadata": {},
   "outputs": [],
   "source": [
    "def plot_frontier(cov, means, opt_w, num=100):\n",
    "    '''\n",
    "    Given cov matrix and expected returns, plots the portfolio space. \n",
    "    '''\n",
    "    # Compute returns and stdevs for random portfolios\n",
    "    rand_nums = np.random.randint(100, size=(num, 5))\n",
    "    rand_nums = rand_nums.astype(float)\n",
    "    rand_weights = rand_nums.copy()\n",
    "    for j in range(rand_nums.shape[1]):\n",
    "        rand_weights[:,j] = np.true_divide(rand_nums[:,j], rand_nums.sum(axis=1))\n",
    "        \n",
    "    returns = []\n",
    "    stdevs = []\n",
    "    for j in range(num):\n",
    "        returns.append(compute_port_ret(rand_weights[j,:], means))\n",
    "        stdevs.append(compute_port_stdev(rand_weights[j,:], cov))\n",
    "    \n",
    "    ret_opt = compute_port_ret(opt_w, means)\n",
    "    stdev_opt = compute_port_stdev(opt_w, cov)\n",
    "    \n",
    "    plt.scatter(stdevs, returns, color=\"blue\", label=\"Random Portfolios\")\n",
    "    plt.scatter(stdev_opt, ret_opt, color=\"red\", s=40, label=\"Optimal Portfolio\")\n",
    "    plt.xlabel(\"Portfolio Volatility\")\n",
    "    plt.ylabel(\"Portfolio Expected Return\")\n",
    "    plt.title(\"Risk-Return Tradeoff\")\n",
    "    plt.show()"
   ]
  },
  {
   "cell_type": "code",
   "execution_count": 290,
   "metadata": {},
   "outputs": [
    {
     "data": {
      "image/png": "[encoded data removed]",
      "text/plain": [
       "<Figure size 640x560 with 1 Axes>"
      ]
     },
     "metadata": {},
     "output_type": "display_data"
    }
   ],
   "source": [
    "plot_frontier(cov, means, opt_w, num=1000)"
   ]
  },
  {
   "cell_type": "code",
   "execution_count": 165,
   "metadata": {},
   "outputs": [],
   "source": [
    "# Compute returns and stdevs for random portfolios\n",
    "num = 20000\n",
    "rand_nums = np.random.randint(100, size=(num, 5))\n",
    "rand_nums = rand_nums.astype(float)\n",
    "rand_weights = rand_nums.copy()\n",
    "for j in range(rand_nums.shape[1]):\n",
    "    rand_weights[:,j] = np.true_divide(rand_nums[:,j], rand_nums.sum(axis=1))\n",
    "    \n",
    "returns = []\n",
    "stdevs = []\n",
    "for j in range(num):\n",
    "    returns.append(compute_port_ret(rand_weights[j,:], means))\n",
    "    stdevs.append(compute_port_stdev(rand_weights[j,:], cov))"
   ]
  },
  {
   "cell_type": "code",
   "execution_count": 148,
   "metadata": {},
   "outputs": [],
   "source": [
    "# Compute mean and stdev of optimal portfolio"
   ]
  },
  {
   "cell_type": "code",
   "execution_count": 270,
   "metadata": {},
   "outputs": [
    {
     "name": "stderr",
     "output_type": "stream",
     "text": [
      "C:\\Users\\Jonathan\\anaconda3\\lib\\site-packages\\cvxpy\\expressions\\expression.py:550: UserWarning: \n",
      "This use of ``*`` has resulted in matrix multiplication.\n",
      "Using ``*`` for matrix multiplication has been deprecated since CVXPY 1.1.\n",
      "    Use ``*`` for matrix-scalar and vector-scalar multiplication.\n",
      "    Use ``@`` for matrix-matrix and matrix-vector multiplication.\n",
      "    Use ``multiply`` for elementwise multiplication.\n",
      "\n",
      "  warnings.warn(__STAR_MATMUL_WARNING__, UserWarning)\n"
     ]
    }
   ],
   "source": [
    "q = 0.5\n",
    "res = find_optimal_weights(loss, cov, means, q)\n",
    "\n",
    "ret_opt = compute_port_ret(res, means)\n",
    "stdev_opt = compute_port_stdev(res, cov)"
   ]
  },
  {
   "cell_type": "code",
   "execution_count": 271,
   "metadata": {},
   "outputs": [
    {
     "data": {
      "image/png": "[encoded data removed]",
      "text/plain": [
       "<Figure size 640x560 with 1 Axes>"
      ]
     },
     "metadata": {},
     "output_type": "display_data"
    }
   ],
   "source": [
    "plt.scatter(stdevs, returns, color=\"blue\", label=\"Random Portfolios\")\n",
    "plt.scatter(stdev_opt, ret_opt, color=\"red\", s=40, label=\"Optimal Portfolio\")\n",
    "plt.xlabel(\"Portfolio Volatility\")\n",
    "plt.ylabel(\"Portfolio Expected Return\")\n",
    "plt.title(\"Risk-Return Tradeoff\")\n",
    "plt.show()"
   ]
  },
  {
   "cell_type": "code",
   "execution_count": null,
   "metadata": {},
   "outputs": [],
   "source": []
  },
  {
   "cell_type": "code",
   "execution_count": null,
   "metadata": {},
   "outputs": [],
   "source": []
  },
  {
   "cell_type": "code",
   "execution_count": 287,
   "metadata": {},
   "outputs": [],
   "source": [
    "import csv\n",
    "with open('optimal_weights.csv', mode='r') as infile:\n",
    "    reader = csv.reader(infile)\n",
    "    opt_w = {rows[0]:float(rows[1]) for rows in reader}\n",
    "    opt_w = np.array(list(opt_w.values()))"
   ]
  },
  {
   "cell_type": "code",
   "execution_count": null,
   "metadata": {},
   "outputs": [],
   "source": []
  },
  {
   "cell_type": "code",
   "execution_count": null,
   "metadata": {},
   "outputs": [],
   "source": []
  },
  {
   "cell_type": "code",
   "execution_count": null,
   "metadata": {},
   "outputs": [],
   "source": []
  },
  {
   "cell_type": "code",
   "execution_count": null,
   "metadata": {},
   "outputs": [],
   "source": []
  },
  {
   "cell_type": "code",
   "execution_count": null,
   "metadata": {},
   "outputs": [],
   "source": []
  },
  {
   "cell_type": "code",
   "execution_count": null,
   "metadata": {},
   "outputs": [],
   "source": []
  },
  {
   "cell_type": "code",
   "execution_count": null,
   "metadata": {},
   "outputs": [],
   "source": []
  },
  {
   "cell_type": "code",
   "execution_count": null,
   "metadata": {},
   "outputs": [],
   "source": []
  },
  {
   "cell_type": "code",
   "execution_count": null,
   "metadata": {},
   "outputs": [],
   "source": []
  },
  {
   "cell_type": "markdown",
   "metadata": {},
   "source": [
    "# Experimenting"
   ]
  },
  {
   "cell_type": "code",
   "execution_count": 230,
   "metadata": {},
   "outputs": [],
   "source": [
    "import cvxpy as cp"
   ]
  },
  {
   "cell_type": "code",
   "execution_count": 240,
   "metadata": {},
   "outputs": [
    {
     "name": "stderr",
     "output_type": "stream",
     "text": [
      "C:\\Users\\Jonathan\\anaconda3\\lib\\site-packages\\cvxpy\\expressions\\expression.py:550: UserWarning: \n",
      "This use of ``*`` has resulted in matrix multiplication.\n",
      "Using ``*`` for matrix multiplication has been deprecated since CVXPY 1.1.\n",
      "    Use ``*`` for matrix-scalar and vector-scalar multiplication.\n",
      "    Use ``@`` for matrix-matrix and matrix-vector multiplication.\n",
      "    Use ``multiply`` for elementwise multiplication.\n",
      "\n",
      "  warnings.warn(__STAR_MATMUL_WARNING__, UserWarning)\n"
     ]
    }
   ],
   "source": [
    "w = cp.Variable(5)\n",
    "gamma = cp.Parameter(nonneg=True)\n",
    "ret = means.T*w \n",
    "risk = cp.quad_form(w, cov)\n",
    "prob = cp.Problem(cp.Maximize(ret - gamma*risk), \n",
    "               [cp.sum(w) == 1, \n",
    "                w >= 0])\n",
    "gamma.value = 0.0\n",
    "prob.solve()\n",
    "risk_data = cp.sqrt(risk).value\n",
    "ret_data = ret.value"
   ]
  },
  {
   "cell_type": "code",
   "execution_count": 253,
   "metadata": {},
   "outputs": [
    {
     "name": "stderr",
     "output_type": "stream",
     "text": [
      "C:\\Users\\Jonathan\\anaconda3\\lib\\site-packages\\cvxpy\\expressions\\expression.py:550: UserWarning: \n",
      "This use of ``*`` has resulted in matrix multiplication.\n",
      "Using ``*`` for matrix multiplication has been deprecated since CVXPY 1.1.\n",
      "    Use ``*`` for matrix-scalar and vector-scalar multiplication.\n",
      "    Use ``@`` for matrix-matrix and matrix-vector multiplication.\n",
      "    Use ``multiply`` for elementwise multiplication.\n",
      "\n",
      "  warnings.warn(__STAR_MATMUL_WARNING__, UserWarning)\n"
     ]
    }
   ],
   "source": [
    "w = cp.Variable(5)\n",
    "q = cp.Parameter(nonneg=True)\n",
    "ret = means.T*w \n",
    "risk = cp.quad_form(w, cov)\n",
    "prob = cp.Problem(cp.Minimize(risk - q*ret), \n",
    "               [cp.sum(w) == 1, \n",
    "                w >= 0])\n",
    "q.value = 0.3\n",
    "prob.solve()\n",
    "risk_data = cp.sqrt(risk).value\n",
    "ret_data = ret.value"
   ]
  },
  {
   "cell_type": "code",
   "execution_count": 256,
   "metadata": {},
   "outputs": [
    {
     "data": {
      "text/plain": [
       "array([3.56199175e-01, 2.09205133e-23, 4.36085002e-01, 1.78664192e-01,\n",
       "       2.90516314e-02])"
      ]
     },
     "execution_count": 256,
     "metadata": {},
     "output_type": "execute_result"
    }
   ],
   "source": [
    "w.value"
   ]
  },
  {
   "cell_type": "code",
   "execution_count": null,
   "metadata": {},
   "outputs": [],
   "source": []
  },
  {
   "cell_type": "code",
   "execution_count": null,
   "metadata": {},
   "outputs": [],
   "source": []
  },
  {
   "cell_type": "code",
   "execution_count": null,
   "metadata": {},
   "outputs": [],
   "source": [
    "def find_optimal_weights(loss, cov, means, q, niter=1000):\n",
    "    '''\n",
    "    Given the loss function, finds and returns the minizing weight vector.\n",
    "    '''\n",
    "    from scipy.optimize import minimize, basinhopping\n",
    "    \n",
    "    rand_nums = np.random.randint(100, size=5)\n",
    "    rand_weight = rand_nums/rand_nums.sum()\n",
    "    #result = minimize(loss, rand_weight, args=(cov, means, q), tol=tol)\n",
    "    result = basinhopping(loss, rand_weight, niter=niter, minimizer_kwargs={\"args\":(cov, means, q)})\n",
    "    optimal_weight = result.x    \n",
    "    \n",
    "    return optimal_weight"
   ]
  },
  {
   "cell_type": "code",
   "execution_count": null,
   "metadata": {},
   "outputs": [],
   "source": []
  },
  {
   "cell_type": "code",
   "execution_count": null,
   "metadata": {},
   "outputs": [],
   "source": []
  },
  {
   "cell_type": "code",
   "execution_count": null,
   "metadata": {},
   "outputs": [],
   "source": []
  }
 ],
 "metadata": {
  "kernelspec": {
   "display_name": "Python 3",
   "language": "python",
   "name": "python3"
  },
  "language_info": {
   "codemirror_mode": {
    "name": "ipython",
    "version": 3
   },
   "file_extension": ".py",
   "mimetype": "text/x-python",
   "name": "python",
   "nbconvert_exporter": "python",
   "pygments_lexer": "ipython3",
   "version": "3.8.3"
  }
 },
 "nbformat": 4,
 "nbformat_minor": 4
}
